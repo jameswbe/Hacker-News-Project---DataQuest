{
 "cells": [
  {
   "cell_type": "markdown",
   "metadata": {},
   "source": [
    "<h2>Guided Project: Exploring Hacker News Posts</h2> <h3>Python For Data Science: Intermediate</h3>\n",
    "\n",
    "This is a DataQuest-guided-data-analysis project in which two types of posts from Hacker News (HN) were studied. <br>At HN user-submitted posts are voted and commented on. \n",
    "\n",
    "<blockquote>Users submit 'Ask HN' posts to ask the Hacker News community a specific question.\n",
    "<br>Users submit 'Show HN' posts to showcase projects, products or anything interesting.</blockquote>\n",
    "\n",
    "In the dataset we are interested in the posts that begin with either <b>Ask HN</b> or <b>Show HN</b> titles. <br>In this project, the data in these two groups of posts were studied with the aim to conclude :\n",
    "\n",
    "<ul>\n",
    "    <li>On average do Ask HN or Show HN posts receive more comments?</li>\n",
    "    <li>Then whether on average posts created at a certain time receive more comments.</li>\n",
    "    </ul>\n",
    "<hr>\n",
    "\n",
    "<a \n",
    "href=\"https://www.dataquest.io/m/356-guided-project-exploring-hacker-news-posts/\">\n",
    "Link to DataQuest Project specification </a>\n",
    "\n",
    "\n",
    "\n",
    "<a \n",
    "href=\"https://www.kaggle.com/hacker-news/hacker-news-posts/\">\n",
    "Link to HN's data dictionary at Kaggle </a>"
   ]
  },
  {
   "cell_type": "code",
   "execution_count": 312,
   "metadata": {
    "scrolled": true
   },
   "outputs": [
    {
     "name": "stdout",
     "output_type": "stream",
     "text": [
      "['id', 'title', 'url', 'num_points', 'num_comments', 'author', 'created_at'] \n",
      "\n",
      "\n",
      "\n",
      "\n",
      "['12224879', 'Interactive Dynamic Video', 'http://www.interactivedynamicvideo.com/', '386', '52', 'ne0phyte', '8/4/2016 11:52'] \n",
      "\n",
      "['10975351', 'How to Use Open Source and Shut the Fuck Up at the Same Time', 'http://hueniverse.com/2016/01/26/how-to-use-open-source-and-shut-the-fuck-up-at-the-same-time/', '39', '10', 'josep2', '1/26/2016 19:30'] \n",
      "\n",
      "['11964716', \"Florida DJs May Face Felony for April Fools' Water Joke\", 'http://www.thewire.com/entertainment/2013/04/florida-djs-april-fools-water-joke/63798/', '2', '1', 'vezycash', '6/23/2016 22:20'] \n",
      "\n"
     ]
    }
   ],
   "source": [
    "\"\"\"\n",
    "    Import The Hacker News data set as a list of lists.\n",
    "    Assign header and remaining dataset (hn) to variables,\n",
    "    then display first three rows.\n",
    "    \n",
    "\"\"\"\n",
    "\n",
    "from csv import reader\n",
    "\n",
    "opened_file = open('hacker_news.csv')\n",
    "read_file = reader(opened_file)\n",
    "hn = list(read_file)\n",
    "\n",
    "headers = hn[0]\n",
    "hn = hn[1:]\n",
    "print(headers,\"\\n\"*4)\n",
    "\n",
    "\n",
    "#Verify header removed from remaining data\n",
    "for row in hn[:3]:\n",
    "    print(row,\"\\n\")"
   ]
  },
  {
   "cell_type": "markdown",
   "metadata": {},
   "source": [
    "<h3>The below separates ask posts and show posts into different lists<h3>"
   ]
  },
  {
   "cell_type": "code",
   "execution_count": 179,
   "metadata": {},
   "outputs": [
    {
     "name": "stdout",
     "output_type": "stream",
     "text": [
      "total posts:  20,100\n",
      "ask posts:     1,744\n",
      "show posts:    1,162\n",
      "other posts:  17,194\n"
     ]
    }
   ],
   "source": [
    "\"\"\"\n",
    "    Description : \n",
    "    Only posts starting with ask hn or show hn are of interest,\n",
    "    so loop over each element of row[1] :'title'\n",
    "    to append these title posts into their respective lists of lists (lol). \n",
    "    \n",
    "    These lol will then be used to find out whether on average\n",
    "    Ask HN or Show HN receive more comments in upcoming code.\n",
    "    \n",
    "    Finally the len() method is called on the list of lists\n",
    "    to find the total number of list elements respectively.\n",
    "    \n",
    "\"\"\"\n",
    "ask_posts = []\n",
    "show_posts = []\n",
    "other_posts = []\n",
    "\n",
    "for row in hn:\n",
    "    title = row[1]         \n",
    "    title = title.lower() \n",
    "    \n",
    "    if title.startswith('ask hn'):\n",
    "        ask_posts.append(row)\n",
    "    elif title.startswith('show hn'):  \n",
    "        show_posts.append(row)\n",
    "    else:\n",
    "        other_posts.append(row) \n",
    "        \n",
    "print(\"total posts: \",'{:,}'.format(len(hn)))\n",
    "print(\"ask posts:    \",'{:,}'.format(len(ask_posts)))      \n",
    "print(\"show posts:   \",'{:,}'.format(len(show_posts))) \n",
    "print(\"other posts: \",'{:,}'.format(len(other_posts))) "
   ]
  },
  {
   "cell_type": "code",
   "execution_count": 138,
   "metadata": {},
   "outputs": [
    {
     "name": "stdout",
     "output_type": "stream",
     "text": [
      "[['12296411', 'Ask HN: How to improve my personal website?', '', '2', '6', 'ahmedbaracat', '8/16/2016 9:55'], ['10610020', 'Ask HN: Am I the only one outraged by Twitter shutting down share counts?', '', '28', '29', 'tkfx', '11/22/2015 13:43'], ['11610310', 'Ask HN: Aby recent changes to CSS that broke mobile?', '', '1', '1', 'polskibus', '5/2/2016 10:14'], ['12210105', 'Ask HN: Looking for Employee #3 How do I do it?', '', '1', '3', 'sph130', '8/2/2016 14:20'], ['10394168', 'Ask HN: Someone offered to buy my browser extension from me. What now?', '', '28', '17', 'roykolak', '10/15/2015 16:38']]\n",
      "\n",
      "\n",
      "\n",
      "\n",
      "[['10627194', 'Show HN: Wio Link  ESP8266 Based Web of Things Hardware Development Platform', 'https://iot.seeed.cc', '26', '22', 'kfihihc', '11/25/2015 14:03'], ['10646440', 'Show HN: Something pointless I made', 'http://dn.ht/picklecat/', '747', '102', 'dhotson', '11/29/2015 22:46'], ['11590768', 'Show HN: Shanhu.io, a programming playground powered by e8vm', 'https://shanhu.io', '1', '1', 'h8liu', '4/28/2016 18:05'], ['12178806', 'Show HN: Webscope  Easy way for web developers to communicate with Clients', 'http://webscopeapp.com', '3', '3', 'fastbrick', '7/28/2016 7:11'], ['10872799', 'Show HN: GeoScreenshot  Easily test Geo-IP based web pages', 'https://www.geoscreenshot.com/', '1', '9', 'kpsychwave', '1/9/2016 20:45']]\n"
     ]
    }
   ],
   "source": [
    "print(ask_posts[:5])\n",
    "print(\"\\n\" * 3)\n",
    "print(show_posts[:5])"
   ]
  },
  {
   "cell_type": "markdown",
   "metadata": {},
   "source": [
    "<h3>Now that the posts are separated into different lists, the function below answers whether Ask HN or Show HN posts recieve more comments on average.<h3>"
   ]
  },
  {
   "cell_type": "code",
   "execution_count": 316,
   "metadata": {},
   "outputs": [
    {
     "name": "stdout",
     "output_type": "stream",
     "text": [
      "avg-ask comments: 14\n",
      "avg-show comments: 10\n"
     ]
    }
   ],
   "source": [
    "def cal_average(comments,post):\n",
    "    \"\"\"\n",
    "    Desc : \n",
    "    calcluate average of posts\n",
    "    \n",
    "    \"\"\"\n",
    "    total_ask_comments = 0\n",
    "    for row in ask_posts:\n",
    "        total_ask_comments += int(row[4])  \n",
    " \n",
    "    avg_comments = comments / len(post)\n",
    "    return avg_comments\n",
    "\n",
    "print(\"avg-ask comments:\",'{:,.0f}'.format(cal_average(total_ask_comments,ask_posts)))\n",
    "print(\"avg-show comments:\",'{:,.0f}'.format(cal_average(total_show_comments,show_posts)))"
   ]
  },
  {
   "cell_type": "markdown",
   "metadata": {},
   "source": [
    "<h3>Since ask posts are more likely to receive comments, we'll only focus on these posts.</h3>\n",
    "<hr>\n",
    "<h4>Do Ask HN Posts Recieve More Comments at Certain Times?</h4>\n",
    "\n",
    "Next, we'll determine if ask posts created at a certain time are more likely to attract comments by (a) Calculating the amount of ask posts created in each hour of the day,along with the number of comments received (b) Calculating the average number of comments ask posts receive by hour created.\n",
    "\n"
   ]
  },
  {
   "cell_type": "code",
   "execution_count": 323,
   "metadata": {
    "scrolled": true
   },
   "outputs": [
    {
     "data": {
      "text/plain": [
       "{'09': 251,\n",
       " '13': 1253,\n",
       " '10': 793,\n",
       " '14': 1416,\n",
       " '16': 1814,\n",
       " '23': 543,\n",
       " '12': 687,\n",
       " '17': 1146,\n",
       " '15': 4477,\n",
       " '21': 1745,\n",
       " '20': 1722,\n",
       " '02': 1381,\n",
       " '18': 1439,\n",
       " '03': 421,\n",
       " '05': 464,\n",
       " '19': 1188,\n",
       " '01': 683,\n",
       " '22': 479,\n",
       " '08': 492,\n",
       " '04': 337,\n",
       " '00': 447,\n",
       " '06': 397,\n",
       " '07': 267,\n",
       " '11': 641}"
      ]
     },
     "execution_count": 323,
     "metadata": {},
     "output_type": "execute_result"
    }
   ],
   "source": [
    "\"\"\"\n",
    "Desc:\n",
    "\n",
    "Code sums the amount of ask posts created in each hour of the day (counts_by_hour[h]),\n",
    "+ number of comments received by hour(comments_by_hour[h]).\n",
    "It shows these values next to their dictionary keys - the hour created.\n",
    "\n",
    "    Code iterates ask_posts and appends two elements:\n",
    "(a) column created_at:  row[6]\n",
    "(b) column with post's comment numbers: row[4]\n",
    "\n",
    "Then, by method chaining the strptime() datetime class method constructor\n",
    "which takes two arguments:\n",
    "\n",
    "    1.string (to be converted to datetime)\n",
    "    2.format code\n",
    "\n",
    "is used to parse these string dates into datetime objects.\n",
    "\n",
    "Then, the datetime.strftime() method is used to create formatted string out of the \n",
    "datetime object, with only the hour from the datetime object selected.\n",
    "\n",
    "format code:\n",
    "%H : Hour (24-hour clock) as a zero-padded decimal number\n",
    "\n",
    "Finally, dictionary key:value pairs are created based on whether\n",
    "the comment number or hour respectively is already a key in their respective dictionaries:\n",
    " \"\"\"\n",
    "\n",
    "#use the datetime module to work with the data in the created_at column.\n",
    "import datetime as dt\n",
    "\n",
    "result_list = []\n",
    "\n",
    "for row in ask_posts:\n",
    "    result_list.append([row[6], int(row[4])])\n",
    "\n",
    "counts_by_hour = {}\n",
    "comments_by_hour = {}\n",
    "for row in result_list:\n",
    "    \n",
    "    #use the datetime.strptime() constructor \n",
    "    #to parse dates stored as strings and return datetime objects\n",
    "    h = dt.datetime.strptime(row[0], \"%m/%d/%Y %H:%M\").strftime(\"%H\")\n",
    "    \n",
    "    if h not in counts_by_hour:\n",
    "        counts_by_hour[h] = 1\n",
    "        comments_by_hour[h] = row[1]\n",
    "    else: \n",
    "        counts_by_hour[h] += 1\n",
    "        comments_by_hour[h] += row[1]\n",
    "\n",
    "\n",
    "comments_by_hour"
   ]
  },
  {
   "cell_type": "code",
   "execution_count": 401,
   "metadata": {},
   "outputs": [
    {
     "name": "stdout",
     "output_type": "stream",
     "text": [
      "['09', 5.5777777777777775]\n",
      "['13', 14.741176470588234]\n",
      "['10', 13.440677966101696]\n",
      "['14', 13.233644859813085]\n"
     ]
    }
   ],
   "source": [
    "\"\"\"\n",
    "\n",
    "Creates a list of lists - avg_by_hour,\n",
    "containing the hours during which \n",
    "posts were created and the average number of comments those posts received.\n",
    "\n",
    "Uses the two dictionaries to calculate \n",
    "the average number of comments for posts created \n",
    "during each hour of the day\n",
    "\n",
    "\"\"\"\n",
    "\n",
    "avg_by_hour = []\n",
    "\n",
    "for row in comments_by_hour:   \n",
    "    avg_by_hour.append([row, comments_by_hour[row] / counts_by_hour[row]])\n",
    "\n",
    "for row in avg_by_hour[:4]:   print(row)\n"
   ]
  },
  {
   "cell_type": "code",
   "execution_count": 398,
   "metadata": {},
   "outputs": [
    {
     "name": "stdout",
     "output_type": "stream",
     "text": [
      "[5.5777777777777775, '09']\n",
      "[14.741176470588234, '13']\n",
      "[13.440677966101696, '10']\n",
      "[13.233644859813085, '14']\n"
     ]
    }
   ],
   "source": [
    "\"\"\"\n",
    "Reorders above output.\n",
    "In upcoming code block \n",
    "the sorted() function \n",
    "is used to pinpoint the highest average\n",
    "comments_by_hour\n",
    "\"\"\"\n",
    "swap_avg_by_hour = []\n",
    "\n",
    "for row in avg_by_hour: \n",
    "    hour = row[0]\n",
    "    avg = row[1]\n",
    "    swap_avg_by_hour.append([avg,hour])\n",
    "\n",
    "for row in swap_avg_by_hour[:4]:\n",
    "    print(row)"
   ]
  },
  {
   "cell_type": "markdown",
   "metadata": {},
   "source": [
    "<h3>Calculate the average amount of comments Ask HN posts created at each hour of the day \n",
    "receive</h3>"
   ]
  },
  {
   "cell_type": "code",
   "execution_count": 406,
   "metadata": {},
   "outputs": [
    {
     "data": {
      "text/plain": [
       "[['09', 5.5777777777777775],\n",
       " ['13', 14.741176470588234],\n",
       " ['10', 13.440677966101696],\n",
       " ['14', 13.233644859813085],\n",
       " ['16', 16.796296296296298],\n",
       " ['23', 7.985294117647059],\n",
       " ['12', 9.41095890410959],\n",
       " ['17', 11.46],\n",
       " ['15', 38.5948275862069],\n",
       " ['21', 16.009174311926607],\n",
       " ['20', 21.525],\n",
       " ['02', 23.810344827586206],\n",
       " ['18', 13.20183486238532],\n",
       " ['03', 7.796296296296297],\n",
       " ['05', 10.08695652173913],\n",
       " ['19', 10.8],\n",
       " ['01', 11.383333333333333],\n",
       " ['22', 6.746478873239437],\n",
       " ['08', 10.25],\n",
       " ['04', 7.170212765957447],\n",
       " ['00', 8.127272727272727],\n",
       " ['06', 9.022727272727273],\n",
       " ['07', 7.852941176470588],\n",
       " ['11', 11.051724137931034]]"
      ]
     },
     "execution_count": 406,
     "metadata": {},
     "output_type": "execute_result"
    }
   ],
   "source": [
    "avg_by_hour_s = []\n",
    "\n",
    "for hr in comments_by_hour:\n",
    "    avg_by_hour_s.append([hr, comments_by_hour[hr] / counts_by_hour[hr]])\n",
    "   \n",
    "\n",
    "    \n",
    "\n",
    "avg_by_hour_s"
   ]
  },
  {
   "cell_type": "code",
   "execution_count": 395,
   "metadata": {},
   "outputs": [
    {
     "name": "stdout",
     "output_type": "stream",
     "text": [
      "[38.5948275862069, '15']\n",
      "[23.810344827586206, '02']\n",
      "[21.525, '20']\n"
     ]
    }
   ],
   "source": [
    "for row in avg_by_hour_s:  #swap\n",
    "    avg = row[1]\n",
    "    hr = row[0]\n",
    "    swap_avg_by_hour_s.append([avg,hr])\n",
    "    \n",
    "sorted_swap_s = sorted(swap_avg_by_hour_s, reverse=True)  #sort\n",
    "    \n",
    "for row in sorted_swap_s[:3]:\n",
    "    print(row)"
   ]
  },
  {
   "cell_type": "markdown",
   "metadata": {},
   "source": [
    "<h3> Order Avg Posts By <br>\n",
    "    Rank and Hour </h3>\n",
    "    <a \n",
    "href=\"https://codereview.stackexchange.com/questions/41298/producing-ordinal-numbers\">\n",
    "link for below ordinal function at stackexchange</a>"
   ]
  },
  {
   "cell_type": "code",
   "execution_count": 391,
   "metadata": {},
   "outputs": [
    {
     "name": "stdout",
     "output_type": "stream",
     "text": [
      "\n",
      "\n",
      "  Top Five Hours for Ask Posts Comments  \n",
      "------------------------------------------\n",
      "(1st) 15:00:  39 average comments per post\n",
      "(2nd) 02:00:  24 average comments per post\n",
      "(3rd) 20:00:  22 average comments per post\n",
      "(4th) 16:00:  17 average comments per post\n",
      "(5th) 21:00:  16 average comments per post\n"
     ]
    }
   ],
   "source": [
    "# much code can be improved by using a datastructure.\n",
    "SUFFIXES = {1: 'st', 2: 'nd', 3: 'rd'}\n",
    "def ordinal(num):\n",
    "    # checking for 10-20 because those are the digits that\n",
    "    # don't follow the normal counting scheme. \n",
    "    if 10 <= num % 100 <= 20:\n",
    "        suffix = 'th'\n",
    "    else:\n",
    "        # the second parameter is a default.\n",
    "        suffix = SUFFIXES.get(num % 10, 'th')\n",
    "    return str(num) + suffix\n",
    "\n",
    "\"\"\"\n",
    "Orders and outputs Ask Post comments into average by hour rankings\n",
    "--------------------------------\n",
    "sorted(iterable, reverse=reverse) \n",
    "iterable here is a list of lists\n",
    "reverse=True sorts descending. Default is False\n",
    "\"\"\" \n",
    "\n",
    "\n",
    "print(\"\\n\")\n",
    "print(\"  Top Five Hours for Ask Posts Comments  \")\n",
    "print(\"------------------------------------------\")\n",
    "\n",
    "i=0\n",
    "for avg, hr in sorted_swap[:5]:\n",
    "    i+=1\n",
    "    print(\"({}) {}: {: .0f} average comments per post\".format(ordinal(i),dt.datetime\n",
    "                                                              .strptime(hr,\"%H\")\n",
    "                                                       .strftime(\"%H:%M\"), avg))\n",
    "\n"
   ]
  },
  {
   "cell_type": "markdown",
   "metadata": {},
   "source": [
    "\n",
    "<h4> Findings - which post type and in which hour might you submit to boost the probability of receiving more comments?</h4>\n",
    "\n",
    "According to the dataset's <a \n",
    "href=\"https://www.kaggle.com/hacker-news/hacker-news-posts/\">\n",
    "data dictionary</a> the 'created_at' column for the time was recorded at US Eastern Time (ET) and 15:00 ET is the hour with the highest number of average comments for ask posts. \n",
    "\n",
    "avg-ask comments: 14 <br>\n",
    "avg-show comments: 10\n",
    "\n",
    "Ask posts received more comments on average and therefore based on this data and without further investigation such as into skewness, it is likely better to submit an ask-post to boost the chance of getting more comments and the best time to submit is between 15:00 - 16:00 ET."
   ]
  }
 ],
 "metadata": {
  "kernelspec": {
   "display_name": "Python 3",
   "language": "python",
   "name": "python3"
  },
  "language_info": {
   "codemirror_mode": {
    "name": "ipython",
    "version": 3
   },
   "file_extension": ".py",
   "mimetype": "text/x-python",
   "name": "python",
   "nbconvert_exporter": "python",
   "pygments_lexer": "ipython3",
   "version": "3.7.4"
  }
 },
 "nbformat": 4,
 "nbformat_minor": 2
}
